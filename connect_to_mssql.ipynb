{
 "cells": [
  {
   "cell_type": "code",
   "execution_count": 14,
   "metadata": {},
   "outputs": [
    {
     "name": "stdout",
     "output_type": "stream",
     "text": [
      "Error en la conexión: ('08001', \"[08001] [Microsoft][ODBC Driver 17 for SQL Server]Invalid value specified for connection string attribute 'Encrypt' (0) (SQLDriverConnect)\")\n"
     ]
    }
   ],
   "source": [
    "import pyodbc\n",
    "\n",
    "# Configuración de la conexión\n",
    "server = '192.168.0.20'\n",
    "database = 'expreso'\n",
    "username = 'datalitica'\n",
    "password = '425am953'\n",
    "port = 1433\n",
    "\n",
    "# Cadena de conexión\n",
    "connection_string = f'DRIVER={{ODBC Driver 17 for SQL Server}};SERVER={server},{port};DATABASE={database};UID={username};PWD={password};Encrypt=true;TrustServerCertificate=False'\n",
    "\n",
    "# Conectar a la base de datos\n",
    "try:\n",
    "    connection = pyodbc.connect(connection_string)\n",
    "    print(\"Conexión exitosa\")\n",
    "except pyodbc.Error as e:\n",
    "    print(\"Error en la conexión:\", e)\n"
   ]
  },
  {
   "cell_type": "code",
   "execution_count": 11,
   "metadata": {},
   "outputs": [
    {
     "name": "stdout",
     "output_type": "stream",
     "text": [
      "Conexión exitosa a 192.168.0.20:1433\n"
     ]
    }
   ],
   "source": [
    "import socket\n",
    "\n",
    "def check_connection(ip, port):\n",
    "    try:\n",
    "        # Crear un socket\n",
    "        sock = socket.create_connection((ip, port), timeout=5)\n",
    "        print(f\"Conexión exitosa a {ip}:{port}\")\n",
    "        sock.close()\n",
    "    except (socket.timeout, socket.error) as e:\n",
    "        print(f\"No se pudo conectar a {ip}:{port}. Error: {e}\")\n",
    "\n",
    "# Verificar la conexión a la IP y puerto especificados\n",
    "check_connection('192.168.0.20', 1433)"
   ]
  }
 ],
 "metadata": {
  "kernelspec": {
   "display_name": "Python 3",
   "language": "python",
   "name": "python3"
  },
  "language_info": {
   "codemirror_mode": {
    "name": "ipython",
    "version": 3
   },
   "file_extension": ".py",
   "mimetype": "text/x-python",
   "name": "python",
   "nbconvert_exporter": "python",
   "pygments_lexer": "ipython3",
   "version": "3.10.12"
  }
 },
 "nbformat": 4,
 "nbformat_minor": 2
}
